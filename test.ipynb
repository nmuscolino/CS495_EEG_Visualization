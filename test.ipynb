{
 "cells": [
  {
   "cell_type": "code",
   "execution_count": null,
   "metadata": {},
   "outputs": [],
   "source": [
    "from read_pts import read_pts, write_xyz\n",
    "import matplotlib.pyplot as plt"
   ]
  },
  {
   "cell_type": "code",
   "execution_count": null,
   "metadata": {},
   "outputs": [],
   "source": [
    "df = read_pts('point_cloud.pts')\n",
    "df"
   ]
  },
  {
   "cell_type": "code",
   "execution_count": null,
   "metadata": {},
   "outputs": [],
   "source": [
    "white_levels = list(range(0, 256))\n",
    "num_points_1 = []\n",
    "num_points_2 = []\n",
    "\n",
    "for i in white_levels:\n",
    "    white_filter = (df['r'] > i) & (df['g'] > i) & (df['b'] > i)\n",
    "    num_points_1.append(len(df[white_filter]))\n",
    "\n",
    "    luminance_filter = (df['luminance'] > i)\n",
    "    num_points_2.append(len(df[luminance_filter]))"
   ]
  },
  {
   "cell_type": "code",
   "execution_count": null,
   "metadata": {},
   "outputs": [],
   "source": [
    "plt.plot(white_levels, num_points_1, label = 'minimum rgb')\n",
    "plt.plot(white_levels, num_points_2, label = \"luminance\")\n",
    "plt.show()"
   ]
  },
  {
   "cell_type": "code",
   "execution_count": null,
   "metadata": {},
   "outputs": [],
   "source": [
    "luminance_filter = (df['luminance'] > 225)\n",
    "write_xyz('output.xyz', df[luminance_filter])"
   ]
  }
 ],
 "metadata": {
  "kernelspec": {
   "display_name": "cs495backend",
   "language": "python",
   "name": "python3"
  },
  "language_info": {
   "codemirror_mode": {
    "name": "ipython",
    "version": 3
   },
   "file_extension": ".py",
   "mimetype": "text/x-python",
   "name": "python",
   "nbconvert_exporter": "python",
   "pygments_lexer": "ipython3",
   "version": "3.6.13"
  },
  "orig_nbformat": 4,
  "vscode": {
   "interpreter": {
    "hash": "e2806a6e05c075eeae76bf26b457e7dc519770610e10e7a2227a31c4abb9b111"
   }
  }
 },
 "nbformat": 4,
 "nbformat_minor": 2
}
