{
 "cells": [
  {
   "attachments": {},
   "cell_type": "markdown",
   "metadata": {},
   "source": [
    "# Setup"
   ]
  },
  {
   "cell_type": "code",
   "execution_count": 1,
   "metadata": {},
   "outputs": [
    {
     "name": "stdout",
     "output_type": "stream",
     "text": [
      "Jupyter environment detected. Enabling Open3D WebVisualizer.\n",
      "[Open3D INFO] WebRTC GUI backend enabled.\n",
      "[Open3D INFO] WebRTCWindowSystem: HTTP handshake server disabled.\n"
     ]
    }
   ],
   "source": [
    "import numpy as np\n",
    "import open3d as o3d\n",
    "from sklearn import cluster\n",
    "import pandas as pd\n",
    "\n",
    "from PointCloudDataFrame import PointCloudDataFrame"
   ]
  },
  {
   "cell_type": "code",
   "execution_count": 15,
   "metadata": {},
   "outputs": [],
   "source": [
    "filename = 'blake-new.ply'\n",
    "pcd_raw = o3d.io.read_point_cloud(f'input/{filename}')\n",
    "df_raw = PointCloudDataFrame.from_pcd(pcd_raw)\n",
    "\n",
    "# o3d.visualization.draw_geometries([pcd_raw.voxel_down_sample(voxel_size=0.001)])"
   ]
  },
  {
   "cell_type": "code",
   "execution_count": 18,
   "metadata": {},
   "outputs": [],
   "source": [
    "df_scaled = df_raw.copy()\n",
    "df_scaled[['x', 'y', 'z']] *= 0.75\n",
    "pcd_scaled = df_scaled.to_pcd()"
   ]
  },
  {
   "cell_type": "code",
   "execution_count": 19,
   "metadata": {},
   "outputs": [],
   "source": [
    "pcd = pcd_scaled.voxel_down_sample(voxel_size=0.001)  # 1mm\n",
    "df = PointCloudDataFrame.from_pcd(pcd)\n",
    "\n",
    "o3d.visualization.draw_geometries([pcd])"
   ]
  },
  {
   "cell_type": "code",
   "execution_count": 20,
   "metadata": {},
   "outputs": [
    {
     "data": {
      "text/plain": [
       "True"
      ]
     },
     "execution_count": 20,
     "metadata": {},
     "output_type": "execute_result"
    }
   ],
   "source": [
    "o3d.io.write_point_cloud(f'input/{filename}', pcd_scaled)"
   ]
  },
  {
   "cell_type": "code",
   "execution_count": 6,
   "metadata": {},
   "outputs": [],
   "source": [
    "df_filter1 = df[(df['s'] < 0.125) & (df['v'] > 0.2)]\n",
    "pcd_filter1 = df_filter1.to_pcd()"
   ]
  },
  {
   "cell_type": "code",
   "execution_count": 7,
   "metadata": {},
   "outputs": [],
   "source": [
    "_, ind = pcd_filter1.remove_radius_outlier(nb_points=70, radius=0.005)\n",
    "pcd_inliers = pcd_filter1.select_by_index(ind)\n",
    "df_inliers = PointCloudDataFrame.from_pcd(pcd_inliers)"
   ]
  },
  {
   "cell_type": "code",
   "execution_count": 8,
   "metadata": {},
   "outputs": [
    {
     "data": {
      "text/html": [
       "<style>#sk-container-id-1 {color: black;background-color: white;}#sk-container-id-1 pre{padding: 0;}#sk-container-id-1 div.sk-toggleable {background-color: white;}#sk-container-id-1 label.sk-toggleable__label {cursor: pointer;display: block;width: 100%;margin-bottom: 0;padding: 0.3em;box-sizing: border-box;text-align: center;}#sk-container-id-1 label.sk-toggleable__label-arrow:before {content: \"▸\";float: left;margin-right: 0.25em;color: #696969;}#sk-container-id-1 label.sk-toggleable__label-arrow:hover:before {color: black;}#sk-container-id-1 div.sk-estimator:hover label.sk-toggleable__label-arrow:before {color: black;}#sk-container-id-1 div.sk-toggleable__content {max-height: 0;max-width: 0;overflow: hidden;text-align: left;background-color: #f0f8ff;}#sk-container-id-1 div.sk-toggleable__content pre {margin: 0.2em;color: black;border-radius: 0.25em;background-color: #f0f8ff;}#sk-container-id-1 input.sk-toggleable__control:checked~div.sk-toggleable__content {max-height: 200px;max-width: 100%;overflow: auto;}#sk-container-id-1 input.sk-toggleable__control:checked~label.sk-toggleable__label-arrow:before {content: \"▾\";}#sk-container-id-1 div.sk-estimator input.sk-toggleable__control:checked~label.sk-toggleable__label {background-color: #d4ebff;}#sk-container-id-1 div.sk-label input.sk-toggleable__control:checked~label.sk-toggleable__label {background-color: #d4ebff;}#sk-container-id-1 input.sk-hidden--visually {border: 0;clip: rect(1px 1px 1px 1px);clip: rect(1px, 1px, 1px, 1px);height: 1px;margin: -1px;overflow: hidden;padding: 0;position: absolute;width: 1px;}#sk-container-id-1 div.sk-estimator {font-family: monospace;background-color: #f0f8ff;border: 1px dotted black;border-radius: 0.25em;box-sizing: border-box;margin-bottom: 0.5em;}#sk-container-id-1 div.sk-estimator:hover {background-color: #d4ebff;}#sk-container-id-1 div.sk-parallel-item::after {content: \"\";width: 100%;border-bottom: 1px solid gray;flex-grow: 1;}#sk-container-id-1 div.sk-label:hover label.sk-toggleable__label {background-color: #d4ebff;}#sk-container-id-1 div.sk-serial::before {content: \"\";position: absolute;border-left: 1px solid gray;box-sizing: border-box;top: 0;bottom: 0;left: 50%;z-index: 0;}#sk-container-id-1 div.sk-serial {display: flex;flex-direction: column;align-items: center;background-color: white;padding-right: 0.2em;padding-left: 0.2em;position: relative;}#sk-container-id-1 div.sk-item {position: relative;z-index: 1;}#sk-container-id-1 div.sk-parallel {display: flex;align-items: stretch;justify-content: center;background-color: white;position: relative;}#sk-container-id-1 div.sk-item::before, #sk-container-id-1 div.sk-parallel-item::before {content: \"\";position: absolute;border-left: 1px solid gray;box-sizing: border-box;top: 0;bottom: 0;left: 50%;z-index: -1;}#sk-container-id-1 div.sk-parallel-item {display: flex;flex-direction: column;z-index: 1;position: relative;background-color: white;}#sk-container-id-1 div.sk-parallel-item:first-child::after {align-self: flex-end;width: 50%;}#sk-container-id-1 div.sk-parallel-item:last-child::after {align-self: flex-start;width: 50%;}#sk-container-id-1 div.sk-parallel-item:only-child::after {width: 0;}#sk-container-id-1 div.sk-dashed-wrapped {border: 1px dashed gray;margin: 0 0.4em 0.5em 0.4em;box-sizing: border-box;padding-bottom: 0.4em;background-color: white;}#sk-container-id-1 div.sk-label label {font-family: monospace;font-weight: bold;display: inline-block;line-height: 1.2em;}#sk-container-id-1 div.sk-label-container {text-align: center;}#sk-container-id-1 div.sk-container {/* jupyter's `normalize.less` sets `[hidden] { display: none; }` but bootstrap.min.css set `[hidden] { display: none !important; }` so we also need the `!important` here to be able to override the default hidden behavior on the sphinx rendered scikit-learn.org. See: https://github.com/scikit-learn/scikit-learn/issues/21755 */display: inline-block !important;position: relative;}#sk-container-id-1 div.sk-text-repr-fallback {display: none;}</style><div id=\"sk-container-id-1\" class=\"sk-top-container\"><div class=\"sk-text-repr-fallback\"><pre>KMeans(n_clusters=120, n_init=&#x27;auto&#x27;)</pre><b>In a Jupyter environment, please rerun this cell to show the HTML representation or trust the notebook. <br />On GitHub, the HTML representation is unable to render, please try loading this page with nbviewer.org.</b></div><div class=\"sk-container\" hidden><div class=\"sk-item\"><div class=\"sk-estimator sk-toggleable\"><input class=\"sk-toggleable__control sk-hidden--visually\" id=\"sk-estimator-id-1\" type=\"checkbox\" checked><label for=\"sk-estimator-id-1\" class=\"sk-toggleable__label sk-toggleable__label-arrow\">KMeans</label><div class=\"sk-toggleable__content\"><pre>KMeans(n_clusters=120, n_init=&#x27;auto&#x27;)</pre></div></div></div></div></div>"
      ],
      "text/plain": [
       "KMeans(n_clusters=120, n_init='auto')"
      ]
     },
     "execution_count": 8,
     "metadata": {},
     "output_type": "execute_result"
    }
   ],
   "source": [
    "model_kmeans = cluster.KMeans(n_clusters=120, n_init='auto')\n",
    "model_kmeans.fit(pcd_inliers.points)"
   ]
  },
  {
   "cell_type": "markdown",
   "metadata": {},
   "source": [
    "model_dbscan = cluster.DBSCAN(eps=0.003, min_samples=10)\n",
    "model_dbscan.fit(pcd_inliers.points)\n",
    "\n",
    "labels = model_dbscan.labels_ \n",
    "num_labels = len(set(labels).difference({-1}))\n",
    "print(num_labels)\n",
    "\n",
    "centroids = []\n",
    "for i in range(num_labels):\n",
    "    centroids.append(\n",
    "        np.mean(df_inliers[labels==i][['x', 'y', 'z']], axis=0)\n",
    "    )\n",
    "\n",
    "pcd_centroids = o3d.geometry.PointCloud()\n",
    "pcd_centroids.points = o3d.utility.Vector3dVector(centroids)\n",
    "\n",
    "o3d.visualization.draw_geometries([pcd_inliers, pcd_centroids])"
   ]
  },
  {
   "cell_type": "code",
   "execution_count": 9,
   "metadata": {},
   "outputs": [
    {
     "name": "stdout",
     "output_type": "stream",
     "text": [
      "120\n"
     ]
    }
   ],
   "source": [
    "labels = model_kmeans.labels_ \n",
    "num_labels = len(set(labels).difference({-1}))\n",
    "print(num_labels)\n",
    "\n",
    "model_kmeans_centers = []\n",
    "for i in range(num_labels):\n",
    "    model_kmeans_centers.append(\n",
    "        np.mean(df_inliers[labels==i][['x', 'y', 'z']], axis=0)\n",
    "    )"
   ]
  },
  {
   "cell_type": "code",
   "execution_count": 10,
   "metadata": {},
   "outputs": [
    {
     "name": "stdout",
     "output_type": "stream",
     "text": [
      "[Open3D WARNING] GLFW Error: WGL: Failed to make context current: The requested transformation operation is not supported. \n"
     ]
    },
    {
     "ename": "KeyboardInterrupt",
     "evalue": "",
     "output_type": "error",
     "traceback": [
      "\u001b[1;31m---------------------------------------------------------------------------\u001b[0m",
      "\u001b[1;31mKeyboardInterrupt\u001b[0m                         Traceback (most recent call last)",
      "Cell \u001b[1;32mIn[10], line 8\u001b[0m\n\u001b[0;32m      5\u001b[0m pcd_temp \u001b[39m=\u001b[39m df_scaled[\u001b[39mfilter\u001b[39m]\u001b[39m.\u001b[39mto_pcd()\n\u001b[0;32m      6\u001b[0m pcd_temp\u001b[39m.\u001b[39mpaint_uniform_color([\u001b[39m0\u001b[39m, \u001b[39m0.8\u001b[39m, \u001b[39m0\u001b[39m])\n\u001b[1;32m----> 8\u001b[0m o3d\u001b[39m.\u001b[39mvisualization\u001b[39m.\u001b[39mdraw_geometries([pcd_temp, pcd])\n",
      "\u001b[1;31mKeyboardInterrupt\u001b[0m: "
     ]
    }
   ],
   "source": [
    "for i in range(num_labels):\n",
    "    point = model_kmeans_centers[i]\n",
    "    filter = ((df_scaled['x'] - point['x'])**2 + (df_scaled['y'] - point['y'])**2 + (df_scaled['z'] - point['z'])**2) < 0.006**2\n",
    "\n",
    "    pcd_temp = df_scaled[filter].to_pcd()\n",
    "    pcd_temp.paint_uniform_color([0, 0.8, 0])\n",
    "\n",
    "    o3d.visualization.draw_geometries([pcd_temp, pcd])"
   ]
  },
  {
   "cell_type": "code",
   "execution_count": null,
   "metadata": {},
   "outputs": [],
   "source": [
    "label_names = ['', 'E23', 'E58', 'E21', 'E34', 'E93', '', 'E25', 'E53', 'E123', \n",
    "\t\t\t'', 'E106', '', 'E36', 'E38', '', 'E13', 'E78', 'E7', '',\n",
    "\t\t\t'E46', 'E112', '', 'E121', 'E9', 'E11', 'E7', 'E68', 'E80', 'E86',\n",
    "\t\t\t'COM', '', 'E101', '', 'E107', 'E99', 'E1', 'E117', 'E22', '',\n",
    "            'E24', '', '', 'E54', 'VREF', 'E108', '', 'E20', 'E12', 'E102',\n",
    "\t\t\t'E116', '', 'E103', 'E61', 'E17', 'E109', 'E10', 'E65', 'E44', 'E128', \n",
    "\t\t\t'E48', 'E3', 'E49', 'E118', 'E27', 'E15', 'E55', 'E5', '', 'E87', \n",
    "\t\t\t'E40', 'E62', 'E124', '', 'E63', 'E94', 'E6', 'E100', 'E79', 'E8', \n",
    "\t\t\t'E14', 'E28', 'E4', 'E2', '', 'E31', 'E26', 'E37', 'E110', 'E33',\n",
    "\t\t\t'E113', '', 'E90', '', 'E56', 'E39', '', '', 'E120', 'E32',\n",
    "\t\t\t'', '', '', '', 'E144', 'E119', '', 'E43', '', '',\n",
    "\t\t\t'']"
   ]
  },
  {
   "cell_type": "code",
   "execution_count": null,
   "metadata": {},
   "outputs": [
    {
     "name": "stdout",
     "output_type": "stream",
     "text": [
      "{'E60', 'E81', 'E18', 'E29', 'E70', 'E92', 'E95', 'E84', 'E115', 'E47', 'E76', 'E98', 'E126', 'E52', 'E97', 'E88', 'E64', 'E71', 'E82', 'E104', 'E57', 'E96', 'E69', 'E74', 'E16', 'E125', 'E50', 'E51', 'E105', 'E91', 'E41', 'E72', 'E42', 'E19', 'VERF', 'E85', 'E30', 'E75', 'E122', 'E45', 'E111', 'E114', 'E59', 'E127', 'E66', 'E83', 'E77', 'E73', 'E35', 'E89', 'E67'}\n"
     ]
    }
   ],
   "source": [
    "total_labels = {'VREF', 'COM'}.union(f'E{i}' for i in range(1, 129))\n",
    "missing_labels = total_labels.difference(label_names)\n",
    "print(missing_labels)"
   ]
  },
  {
   "cell_type": "code",
   "execution_count": null,
   "metadata": {},
   "outputs": [],
   "source": [
    "df_scaled['label'] = ''\n",
    "for i, l in enumerate(label_names):\n",
    "    if l:\n",
    "        point = centroids[i]\n",
    "        filter = ((df_scaled['x'] - point['x'])**2 + (df_scaled['y'] - point['y'])**2 + (df_scaled['z'] - point['z'])**2) < 0.006**2\n",
    "        df_scaled.loc[filter, 'label'] = l\n",
    "# df_scaled"
   ]
  },
  {
   "cell_type": "code",
   "execution_count": null,
   "metadata": {},
   "outputs": [
    {
     "name": "stdout",
     "output_type": "stream",
     "text": [
      "[-0.03587809806510377, -0.15152675894395964, 0.09508902913996292]\n"
     ]
    }
   ],
   "source": [
    "point = np.mean(\n",
    "    pd.DataFrame([\n",
    "        centroids[label_names.index('VREF')],\n",
    "        # centroids[label_names.index('E52')],\n",
    "    ]), axis=0\n",
    ")\n",
    "point['x'] -= 0.026\n",
    "point['y'] -= 0.108\n",
    "point['z'] -= 0.138\n",
    "print(point.tolist())\n",
    "\n",
    "filter = ((df_scaled['x'] - point['x'])**2 + (df_scaled['y'] - point['y'])**2 + (df_scaled['z'] - point['z'])**2) < 0.006**2\n",
    "\n",
    "pcd_temp = df_scaled[filter].to_pcd()\n",
    "pcd_temp.paint_uniform_color([0, 0.8, 0])\n",
    "\n",
    "o3d.visualization.draw_geometries([pcd_temp, pcd])"
   ]
  },
  {
   "cell_type": "code",
   "execution_count": null,
   "metadata": {},
   "outputs": [],
   "source": [
    "new_points = {\n",
    "    'E67': pd.Series((-0.05901098614067173, -0.12931973568786664, 0.16823132620646106), index=('x', 'y', 'z')),\n",
    "    'E60': pd.Series((-0.08201098614067173, -0.10431973568786665, 0.16823132620646106), index=('x', 'y', 'z')),\n",
    "    'E72': pd.Series((-0.029878098065103772, -0.14052675894395963, 0.16008902913996292), index=('x', 'y', 'z')),\n",
    "    'E75': pd.Series((-0.03587809806510377, -0.15152675894395964, 0.09508902913996292), index=('x', 'y', 'z')),\n",
    "}"
   ]
  },
  {
   "cell_type": "code",
   "execution_count": null,
   "metadata": {},
   "outputs": [],
   "source": [
    "for l, p in new_points.items():\n",
    "    filter = ((df_scaled['x'] - p['x'])**2 + (df_scaled['y'] - p['y'])**2 + (df_scaled['z'] - p['z'])**2) < 0.006**2\n",
    "    df_scaled.loc[filter, 'label'] = l\n",
    "# df_scaled"
   ]
  },
  {
   "cell_type": "code",
   "execution_count": null,
   "metadata": {},
   "outputs": [],
   "source": [
    "df_scaled.write_label(f'label/{filename.split(\".\")[0]}.txt')"
   ]
  }
 ],
 "metadata": {
  "kernelspec": {
   "display_name": "cs495backend",
   "language": "python",
   "name": "python3"
  },
  "language_info": {
   "codemirror_mode": {
    "name": "ipython",
    "version": 3
   },
   "file_extension": ".py",
   "mimetype": "text/x-python",
   "name": "python",
   "nbconvert_exporter": "python",
   "pygments_lexer": "ipython3",
   "version": "3.10.9"
  },
  "orig_nbformat": 4,
  "vscode": {
   "interpreter": {
    "hash": "e2806a6e05c075eeae76bf26b457e7dc519770610e10e7a2227a31c4abb9b111"
   }
  }
 },
 "nbformat": 4,
 "nbformat_minor": 2
}
