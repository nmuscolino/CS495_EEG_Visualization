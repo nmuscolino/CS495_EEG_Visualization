{
 "cells": [
  {
   "attachments": {},
   "cell_type": "markdown",
   "metadata": {},
   "source": [
    "# Setup"
   ]
  },
  {
   "cell_type": "code",
   "execution_count": null,
   "metadata": {},
   "outputs": [],
   "source": [
    "import numpy as np\n",
    "import open3d as o3d\n",
    "from sklearn import cluster\n",
    "import pandas as pd\n",
    "\n",
    "from PointCloudDataFrame import PointCloudDataFrame"
   ]
  },
  {
   "cell_type": "code",
   "execution_count": null,
   "metadata": {},
   "outputs": [],
   "source": [
    "filename = 'original-cropped.pts'\n",
    "pcd_raw = o3d.io.read_point_cloud(f'input/{filename}')\n",
    "df_raw = PointCloudDataFrame.from_pcd(pcd_raw)"
   ]
  },
  {
   "cell_type": "code",
   "execution_count": null,
   "metadata": {},
   "outputs": [],
   "source": [
    "pcd = pcd_raw.voxel_down_sample(voxel_size=0.001)  # 1mm\n",
    "df = PointCloudDataFrame.from_pcd(pcd)"
   ]
  },
  {
   "cell_type": "code",
   "execution_count": null,
   "metadata": {},
   "outputs": [],
   "source": [
    "df_filter1 = df[(df['s'] < 0.1) & (df['v'] > 0.2)]\n",
    "pcd_filter1 = df_filter1.to_pcd()"
   ]
  },
  {
   "cell_type": "code",
   "execution_count": null,
   "metadata": {},
   "outputs": [],
   "source": [
    "_, ind = pcd_filter1.remove_radius_outlier(nb_points=56, radius=0.005)\n",
    "pcd_inliers = pcd_filter1.select_by_index(ind)\n",
    "pcd_inliers.paint_uniform_color([0.8, 0.8, 0.8])\n",
    "df_inliers = PointCloudDataFrame.from_pcd(pcd_inliers)"
   ]
  },
  {
   "cell_type": "code",
   "execution_count": null,
   "metadata": {},
   "outputs": [],
   "source": [
    "model = cluster.DBSCAN(eps=0.003, min_samples=10)\n",
    "model.fit(pcd_inliers.points)"
   ]
  },
  {
   "cell_type": "code",
   "execution_count": null,
   "metadata": {},
   "outputs": [],
   "source": [
    "labels = model.labels_ \n",
    "num_labels = len(set(labels).difference({-1}))\n",
    "print(num_labels)\n",
    "\n",
    "centroids = []\n",
    "for i in range(num_labels):\n",
    "    centroids.append(\n",
    "        np.mean(df_inliers[labels==i][['x', 'y', 'z']], axis=0)\n",
    "    )\n",
    "\n",
    "pcd_centroids = o3d.geometry.PointCloud()\n",
    "pcd_centroids.points = o3d.utility.Vector3dVector(centroids)\n",
    "\n",
    "# o3d.visualization.draw_geometries([pcd_inliers, pcd_centroids])"
   ]
  },
  {
   "cell_type": "code",
   "execution_count": null,
   "metadata": {},
   "outputs": [],
   "source": [
    "for i in range(num_labels):\n",
    "    point = centroids[i]\n",
    "    filter = ((df_raw['x'] - point['x'])**2 + (df_raw['y'] - point['y'])**2 + (df_raw['z'] - point['z'])**2) < 0.006**2\n",
    "\n",
    "    pcd_temp = df_raw[filter].to_pcd()\n",
    "    pcd_temp.paint_uniform_color([0, 0.8, 0])\n",
    "\n",
    "    o3d.visualization.draw_geometries([pcd_temp, pcd])"
   ]
  },
  {
   "cell_type": "code",
   "execution_count": null,
   "metadata": {},
   "outputs": [],
   "source": [
    "label_names = ['E105', 'E63', 'E80', 'E34', 'E44', 'E110', 'E11', 'E23', 'E82', 'E108',\n",
    "               'E51', 'COM', 'E40', 'E58', 'E62', 'E87', 'E36', 'E16', 'E79', 'E7',\n",
    "               'E119', 'E50', 'E115', 'E4', 'E93', 'E18', 'E21', 'E125', 'E38', 'E33',\n",
    "               'E15', 'E20', 'E123', 'E8', 'E117', 'E10', 'E27', 'E14', 'E49', 'E19',\n",
    "               'E76', 'E70', 'E39', 'E9', 'E111', 'E101', 'E102', 'E3', 'E109', 'E103',\n",
    "               'E106', 'E118', 'E59', 'E43', 'E61', 'E45', 'E81', 'E114', 'E60', 'E72',\n",
    "               'E35', 'E75', 'E28', 'E13', 'VERF', 'E101', 'E29', 'E89', 'E84', '',\n",
    "               'E99', 'E37', 'E121', 'E77', 'E92', 'E64', 'E65', 'E91', 'E30', 'E46',\n",
    "               'E67', 'E83', 'E12', 'E122', 'E95', 'E124', 'E104', 'E71', 'E24', 'E98',\n",
    "               'E54', 'E2', 'E42', 'E97', 'E128', 'E66', 'E86', 'E41', 'E57', 'E53',\n",
    "               'E55', 'E1', 'E113', 'E81', 'E107', 'E88', 'E73', 'E43', 'E85', 'E78',\n",
    "               'E5', 'E6', 'E69', 'E17', 'E116', 'E90', 'E96', 'E31', '', 'E52',\n",
    "               'E120', 'E47', 'E112', '', '', '']"
   ]
  },
  {
   "cell_type": "code",
   "execution_count": null,
   "metadata": {},
   "outputs": [],
   "source": [
    "total_labels = {'VERF', 'COM'}.union(f'E{i}' for i in range(1, 129))\n",
    "missing_labels = total_labels.difference(label_names)\n",
    "print(missing_labels)"
   ]
  },
  {
   "cell_type": "code",
   "execution_count": null,
   "metadata": {},
   "outputs": [],
   "source": [
    "df_raw['label'] = ''\n",
    "for i, l in enumerate(label_names):\n",
    "    if l:\n",
    "        point = centroids[i]\n",
    "        filter = ((df_raw['x'] - point['x'])**2 + (df_raw['y'] - point['y'])**2 + (df_raw['z'] - point['z'])**2) < 0.006**2\n",
    "        df_raw.loc[filter, 'label'] = l\n",
    "df_raw"
   ]
  },
  {
   "cell_type": "markdown",
   "metadata": {},
   "source": [
    "point = np.mean(\n",
    "    pd.DataFrame([\n",
    "        centroids[label_names.index('E99')],\n",
    "        centroids[label_names.index('E101')],\n",
    "        centroids[label_names.index('E101')],\n",
    "        centroids[label_names.index('E101')],\n",
    "        centroids[label_names.index('E107')],\n",
    "    ]), axis=0\n",
    ")\n",
    "filter = ((df_raw['x'] - point['x'])**2 + (df_raw['y'] - point['y'])**2 + (df_raw['z'] - point['z'])**2) < 0.006**2\n",
    "\n",
    "pcd_temp = df_raw[filter].to_pcd()\n",
    "pcd_temp.paint_uniform_color([0, 0.8, 0])\n",
    "\n",
    "o3d.visualization.draw_geometries([pcd_temp, pcd])"
   ]
  },
  {
   "cell_type": "code",
   "execution_count": null,
   "metadata": {},
   "outputs": [],
   "source": [
    "df_raw.write_label(f'label/{filename.split(\".\")[0]}.txt')"
   ]
  }
 ],
 "metadata": {
  "kernelspec": {
   "display_name": "cs495backend",
   "language": "python",
   "name": "python3"
  },
  "language_info": {
   "codemirror_mode": {
    "name": "ipython",
    "version": 3
   },
   "file_extension": ".py",
   "mimetype": "text/x-python",
   "name": "python",
   "nbconvert_exporter": "python",
   "pygments_lexer": "ipython3",
   "version": "3.10.9"
  },
  "orig_nbformat": 4,
  "vscode": {
   "interpreter": {
    "hash": "e2806a6e05c075eeae76bf26b457e7dc519770610e10e7a2227a31c4abb9b111"
   }
  }
 },
 "nbformat": 4,
 "nbformat_minor": 2
}
