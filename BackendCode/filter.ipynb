{
 "cells": [
  {
   "cell_type": "code",
   "execution_count": null,
   "metadata": {},
   "outputs": [],
   "source": [
    "import json\n",
    "import open3d as o3d\n",
    "from sklearn import cluster\n",
    "\n",
    "from PointCloudDataFrame import PointCloudDataFrame"
   ]
  },
  {
   "cell_type": "code",
   "execution_count": null,
   "metadata": {},
   "outputs": [],
   "source": [
    "pcd = o3d.io.read_point_cloud('point_cloud.pts')"
   ]
  },
  {
   "cell_type": "code",
   "execution_count": null,
   "metadata": {},
   "outputs": [],
   "source": [
    "pcd_down = pcd.voxel_down_sample(voxel_size=0.001)  # 1mm\n",
    "# o3d.visualization.draw_geometries([pcd_down])"
   ]
  },
  {
   "cell_type": "code",
   "execution_count": null,
   "metadata": {},
   "outputs": [],
   "source": [
    "df = PointCloudDataFrame.from_pcd(pcd_down)"
   ]
  },
  {
   "cell_type": "code",
   "execution_count": null,
   "metadata": {},
   "outputs": [],
   "source": [
    "df_filter1 = df[(df['s'] < 0.075) & (df['v'] > 0.2)]\n",
    "df_filter1.write_pts('output/filter1.pts')\n",
    "pcd_filter1 = df_filter1.to_pcd()\n",
    "# o3d.visualization.draw_geometries([pcd_filter1])"
   ]
  },
  {
   "cell_type": "code",
   "execution_count": null,
   "metadata": {},
   "outputs": [],
   "source": [
    "df_filter2 = df[(df['s'] < 0.075) & (df['v'] > 0.2) & (df['z'] > 0.1)]\n",
    "df_filter2.write_pts('output/filter2.pts')\n",
    "pcd_filter2 = df_filter2.to_pcd()\n",
    "# o3d.visualization.draw_geometries([pcd_filter2])"
   ]
  },
  {
   "cell_type": "code",
   "execution_count": null,
   "metadata": {},
   "outputs": [],
   "source": [
    "_, ind = pcd_filter2.remove_radius_outlier(nb_points=48, radius=0.005)\n",
    "pcd_inliers = pcd_filter2.select_by_index(ind)\n",
    "pcd_inliers.paint_uniform_color([0.8, 0.8, 0.8])\n",
    "o3d.visualization.draw_geometries([pcd_inliers])"
   ]
  },
  {
   "cell_type": "code",
   "execution_count": null,
   "metadata": {},
   "outputs": [],
   "source": [
    "model = cluster.KMeans(n_clusters=128, n_init='auto')\n",
    "model.fit(pcd_inliers.points)"
   ]
  },
  {
   "cell_type": "code",
   "execution_count": null,
   "metadata": {},
   "outputs": [],
   "source": [
    "dictionary = {str(i): list(k) for (i, k) in enumerate(model.cluster_centers_)}\n",
    "json_object = json.dumps(dictionary)\n",
    "with open('output/clusters.json', 'w') as f:\n",
    "    f.write(json_object)"
   ]
  },
  {
   "cell_type": "code",
   "execution_count": null,
   "metadata": {},
   "outputs": [],
   "source": [
    "clusters = o3d.geometry.PointCloud()\n",
    "clusters.points = o3d.utility.Vector3dVector(model.cluster_centers_)\n",
    "o3d.io.write_point_cloud('output/clusters.xyz', clusters, write_ascii=True)"
   ]
  },
  {
   "cell_type": "code",
   "execution_count": null,
   "metadata": {},
   "outputs": [],
   "source": [
    "o3d.visualization.draw_geometries([pcd_inliers, clusters])"
   ]
  }
 ],
 "metadata": {
  "kernelspec": {
   "display_name": "cs495backend",
   "language": "python",
   "name": "python3"
  },
  "language_info": {
   "codemirror_mode": {
    "name": "ipython",
    "version": 3
   },
   "file_extension": ".py",
   "mimetype": "text/x-python",
   "name": "python",
   "nbconvert_exporter": "python",
   "pygments_lexer": "ipython3",
   "version": "3.10.9"
  },
  "orig_nbformat": 4,
  "vscode": {
   "interpreter": {
    "hash": "e2806a6e05c075eeae76bf26b457e7dc519770610e10e7a2227a31c4abb9b111"
   }
  }
 },
 "nbformat": 4,
 "nbformat_minor": 2
}
